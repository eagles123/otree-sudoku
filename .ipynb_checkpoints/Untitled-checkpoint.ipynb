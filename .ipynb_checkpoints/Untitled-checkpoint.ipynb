{
 "cells": [
  {
   "cell_type": "code",
   "execution_count": 31,
   "metadata": {},
   "outputs": [],
   "source": [
    "games = ['0023456778','0021455899','3322345452','2342114466']\n",
    "new = []\n",
    "\n",
    "new = [list(x) for x in games]\n",
    "\n",
    "def run(arg):\n",
    "    for i in arg:\n",
    "        yield list(i)\n",
    "\n",
    "#new = run(games)\n",
    "    \n",
    "    "
   ]
  },
  {
   "cell_type": "code",
   "execution_count": 32,
   "metadata": {},
   "outputs": [
    {
     "name": "stdout",
     "output_type": "stream",
     "text": [
      "[['0', '0', '2', '3', '4', '5', '6', '7', '7', '8'], ['0', '0', '2', '1', '4', '5', '5', '8', '9', '9'], ['3', '3', '2', '2', '3', '4', '5', '4', '5', '2'], ['2', '3', '4', '2', '1', '1', '4', '4', '6', '6']]\n"
     ]
    }
   ],
   "source": [
    "print(new)"
   ]
  },
  {
   "cell_type": "code",
   "execution_count": 27,
   "metadata": {},
   "outputs": [
    {
     "name": "stdout",
     "output_type": "stream",
     "text": [
      "['0', '0', '2', '3', '4', '5', '6', '7', '7', '8']\n",
      "['0', '0', '2', '1', '4', '5', '5', '8', '9', '9']\n",
      "['3', '3', '2', '2', '3', '4', '5', '4', '5', '2']\n",
      "['2', '3', '4', '2', '1', '1', '4', '4', '6', '6']\n"
     ]
    }
   ],
   "source": [
    "\n",
    "for x in new:\n",
    "    print(x)"
   ]
  },
  {
   "cell_type": "code",
   "execution_count": 21,
   "metadata": {},
   "outputs": [
    {
     "name": "stdout",
     "output_type": "stream",
     "text": [
      "<generator object run at 0x000001304E76F9A8>\n"
     ]
    }
   ],
   "source": [
    "print(new)"
   ]
  },
  {
   "cell_type": "code",
   "execution_count": 16,
   "metadata": {},
   "outputs": [
    {
     "name": "stdout",
     "output_type": "stream",
     "text": [
      "<generator object run at 0x000001304E76F930>\n"
     ]
    }
   ],
   "source": [
    "for i in new:\n",
    "    print(i)"
   ]
  },
  {
   "cell_type": "code",
   "execution_count": null,
   "metadata": {},
   "outputs": [],
   "source": []
  }
 ],
 "metadata": {
  "kernelspec": {
   "display_name": "Python 3",
   "language": "python",
   "name": "python3"
  },
  "language_info": {
   "codemirror_mode": {
    "name": "ipython",
    "version": 3
   },
   "file_extension": ".py",
   "mimetype": "text/x-python",
   "name": "python",
   "nbconvert_exporter": "python",
   "pygments_lexer": "ipython3",
   "version": "3.7.0"
  }
 },
 "nbformat": 4,
 "nbformat_minor": 2
}
